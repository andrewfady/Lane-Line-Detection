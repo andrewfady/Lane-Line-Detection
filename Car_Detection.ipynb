{
 "cells": [
  {
   "cell_type": "markdown",
   "id": "f5ef7f4a",
   "metadata": {},
   "source": [
    "# Car detection Project"
   ]
  },
  {
   "cell_type": "markdown",
   "id": "c7d36578",
   "metadata": {},
   "source": [
    "## important imports"
   ]
  },
  {
   "cell_type": "code",
   "execution_count": 1,
   "id": "6484c6e0",
   "metadata": {},
   "outputs": [],
   "source": [
    "import cv2\n",
    "import torch\n",
    "import time\n",
    "import warnings\n",
    "from moviepy.editor import VideoFileClip\n",
    "from PIL import Image\n",
    "import numpy as np\n",
    "%matplotlib inline\n",
    "debug=False"
   ]
  },
  {
   "cell_type": "markdown",
   "id": "eca61d8b",
   "metadata": {},
   "source": [
    "## Load YOLOV5 Model"
   ]
  },
  {
   "cell_type": "code",
   "execution_count": 2,
   "id": "846b22ab",
   "metadata": {},
   "outputs": [
    {
     "name": "stderr",
     "output_type": "stream",
     "text": [
      "Using cache found in C:\\Users\\10/.cache\\torch\\hub\\ultralytics_yolov5_master\n",
      "YOLOv5  2022-5-17 Python-3.9.7 torch-1.11.0 CPU\n",
      "\n",
      "Fusing layers... \n",
      "YOLOv5m summary: 290 layers, 21172173 parameters, 0 gradients\n",
      "Adding AutoShape... \n"
     ]
    }
   ],
   "source": [
    "model = torch.hub.load('ultralytics/yolov5', \"yolov5m\")"
   ]
  },
  {
   "cell_type": "markdown",
   "id": "7d959601",
   "metadata": {},
   "source": [
    "## 1. Crop Detected Cars from frame"
   ]
  },
  {
   "cell_type": "code",
   "execution_count": 3,
   "id": "b7b44297",
   "metadata": {},
   "outputs": [],
   "source": [
    "def cut_image_api(image,array_positions):\n",
    "    array_photos=[]\n",
    "    for single_record in array_positions:\n",
    "        xmin = int(single_record[0])\n",
    "        ymin = int(single_record[1])\n",
    "        xmax = int(single_record[2])\n",
    "        ymax = int(single_record[3])\n",
    "        im1 = image[ ymin:ymax,xmin:xmax,:3]\n",
    "        array_photos.append(im1)\n",
    "\n",
    "    return array_photos\n"
   ]
  },
  {
   "cell_type": "markdown",
   "id": "fa16f247",
   "metadata": {},
   "source": [
    "## 2.Combine Output with Cropped Cars Images"
   ]
  },
  {
   "cell_type": "code",
   "execution_count": 4,
   "id": "f8d7a591",
   "metadata": {},
   "outputs": [],
   "source": [
    "def pipline_outputs_combined(main_frame,stages_output):\n",
    "    #Get the orginal frame height\n",
    "    h1, w1 = main_frame.shape[:2]\n",
    "    #Get pipeline output images size\n",
    "    square_size=int(w1/len(stages_output))        \n",
    "    img_3 = np.zeros((h1,w1,3), dtype=np.uint8)\n",
    "    img_3[:h1, :w1,:3] = main_frame\n",
    "    i=0\n",
    "    #Add pipeline output images to the original frame \n",
    "    for image in stages_output:\n",
    "        image=cv2.resize(image,(square_size,200),interpolation = cv2.INTER_AREA)\n",
    "        img_3[0:200,i*square_size:(i*square_size)+square_size,:3] = image\n",
    "        i+=1\n",
    "    return img_3"
   ]
  },
  {
   "cell_type": "markdown",
   "id": "e562fc10",
   "metadata": {},
   "source": [
    "## 3. Draw Detected Cars Boundries"
   ]
  },
  {
   "cell_type": "code",
   "execution_count": 5,
   "id": "3780f2ac",
   "metadata": {},
   "outputs": [],
   "source": [
    "def draw_prediction(img, array_out):\n",
    "    for single_out in array_out:\n",
    "        if (single_out[6]=='car'):\n",
    "            color = (250,0,0)\n",
    "            point1=(int(single_out[0]),int(single_out[1]))\n",
    "            point2=(int(single_out[2]),int(single_out[3]))\n",
    "            cv2.rectangle(img,point1, point2, color, 2)\n"
   ]
  },
  {
   "cell_type": "markdown",
   "id": "d8f0a7ea",
   "metadata": {},
   "source": [
    "## 4. Pipeline Executer"
   ]
  },
  {
   "cell_type": "code",
   "execution_count": 6,
   "id": "d8f18607",
   "metadata": {},
   "outputs": [],
   "source": [
    "def detect_image(image_cv2):\n",
    "    results = model(image_cv2)\n",
    "    image_cv1 = image_cv2.copy()\n",
    "    array_out = results.pandas().xyxy[0].to_numpy()\n",
    "    cropped_car_images=cut_image_api(image_cv2,array_out)\n",
    "    draw_prediction(image_cv1, array_out)\n",
    "    if debug and not(len(cropped_car_images)==0):\n",
    "        return pipline_outputs_combined(image_cv1,cropped_car_images)\n",
    "    return image_cv1"
   ]
  },
  {
   "cell_type": "markdown",
   "id": "5c17b99a",
   "metadata": {},
   "source": [
    "## 5.Test Pipeline"
   ]
  },
  {
   "cell_type": "code",
   "execution_count": 11,
   "id": "6463b5cb",
   "metadata": {},
   "outputs": [
    {
     "name": "stdout",
     "output_type": "stream",
     "text": [
      "Moviepy - Building video Car_detection.mp4.\n",
      "Moviepy - Writing video Car_detection.mp4\n",
      "\n"
     ]
    },
    {
     "name": "stderr",
     "output_type": "stream",
     "text": [
      "                                                                                                                       \r"
     ]
    },
    {
     "name": "stdout",
     "output_type": "stream",
     "text": [
      "Moviepy - Done !\n",
      "Moviepy - video ready Car_detection.mp4\n"
     ]
    }
   ],
   "source": [
    "from moviepy.editor import VideoFileClip\n",
    "from IPython.display import HTML\n",
    "debug=True\n",
    "video_output =\"Car_detection.mp4\"\n",
    "clip1 = VideoFileClip(\"project_video.mp4\").subclip(10,20)\n",
    "challenge_clip = clip1.fl_image(detect_image)\n",
    "challenge_clip.write_videofile(challenge_output, audio=False)"
   ]
  },
  {
   "cell_type": "code",
   "execution_count": 12,
   "id": "5627d231",
   "metadata": {},
   "outputs": [
    {
     "data": {
      "text/html": [
       "\n",
       "<video width=\"960\" height=\"540\" controls>\n",
       "  <source src=\"Car_detection.mp4\">\n",
       "</video>\n"
      ],
      "text/plain": [
       "<IPython.core.display.HTML object>"
      ]
     },
     "execution_count": 12,
     "metadata": {},
     "output_type": "execute_result"
    }
   ],
   "source": [
    "HTML(\"\"\"\n",
    "<video width=\"960\" height=\"540\" controls>\n",
    "  <source src=\"{0}\">\n",
    "</video>\n",
    "\"\"\".format(video_output))"
   ]
  },
  {
   "cell_type": "code",
   "execution_count": null,
   "id": "5c184bb5",
   "metadata": {},
   "outputs": [],
   "source": []
  }
 ],
 "metadata": {
  "kernelspec": {
   "display_name": "Python 3 (ipykernel)",
   "language": "python",
   "name": "python3"
  },
  "language_info": {
   "codemirror_mode": {
    "name": "ipython",
    "version": 3
   },
   "file_extension": ".py",
   "mimetype": "text/x-python",
   "name": "python",
   "nbconvert_exporter": "python",
   "pygments_lexer": "ipython3",
   "version": "3.9.7"
  }
 },
 "nbformat": 4,
 "nbformat_minor": 5
}
