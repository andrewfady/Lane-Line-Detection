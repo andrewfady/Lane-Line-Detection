{
 "cells": [
  {
   "cell_type": "markdown",
   "id": "f5ef7f4a",
   "metadata": {},
   "source": [
    "# Car detection Project"
   ]
  },
  {
   "cell_type": "markdown",
   "id": "c7d36578",
   "metadata": {},
   "source": [
    "## important imports"
   ]
  },
  {
   "cell_type": "code",
   "execution_count": 1,
   "id": "6484c6e0",
   "metadata": {},
   "outputs": [],
   "source": [
    "import cv2\n",
    "import torch\n",
    "import time\n",
    "import warnings\n",
    "from moviepy.editor import VideoFileClip\n",
    "from PIL import Image\n",
    "import numpy as np\n",
    "%matplotlib inline\n",
    "debug=False"
   ]
  },
  {
   "cell_type": "markdown",
   "id": "eca61d8b",
   "metadata": {},
   "source": [
    "## Load YOLOV5 Model"
   ]
  },
  {
   "cell_type": "code",
   "execution_count": 2,
   "id": "846b22ab",
   "metadata": {},
   "outputs": [
    {
     "name": "stderr",
     "output_type": "stream",
     "text": [
      "Downloading: \"https://github.com/ultralytics/yolov5/archive/master.zip\" to C:\\Users\\10/.cache\\torch\\hub\\master.zip\n",
      "YOLOv5  2022-5-17 Python-3.9.7 torch-1.11.0 CPU\n",
      "\n",
      "Downloading https://github.com/ultralytics/yolov5/releases/download/v6.1/yolov5m.pt to yolov5m.pt...\n"
     ]
    },
    {
     "data": {
      "application/vnd.jupyter.widget-view+json": {
       "model_id": "f86fa70fbd6144139f3ecc60e50d0f3b",
       "version_major": 2,
       "version_minor": 0
      },
      "text/plain": [
       "  0%|          | 0.00/40.8M [00:00<?, ?B/s]"
      ]
     },
     "metadata": {},
     "output_type": "display_data"
    },
    {
     "name": "stderr",
     "output_type": "stream",
     "text": [
      "\n",
      "Fusing layers... \n",
      "YOLOv5m summary: 290 layers, 21172173 parameters, 0 gradients\n",
      "Adding AutoShape... \n"
     ]
    }
   ],
   "source": [
    "model = torch.hub.load('ultralytics/yolov5', \"yolov5m\")"
   ]
  },
  {
   "cell_type": "markdown",
   "id": "7d959601",
   "metadata": {},
   "source": [
    "## 1. Crop Detected Cars from frame"
   ]
  },
  {
   "cell_type": "code",
   "execution_count": 3,
   "id": "b7b44297",
   "metadata": {},
   "outputs": [],
   "source": [
    "def cut_image_api(image,array_positions):\n",
    "    array_photos=[]\n",
    "    for single_record in array_positions:\n",
    "        xmin = int(single_record[0])\n",
    "        ymin = int(single_record[1])\n",
    "        xmax = int(single_record[2])\n",
    "        ymax = int(single_record[3])\n",
    "        im1 = image[ ymin:ymax,xmin:xmax,:3]\n",
    "        array_photos.append(im1)\n",
    "\n",
    "    return array_photos\n"
   ]
  },
  {
   "cell_type": "markdown",
   "id": "fa16f247",
   "metadata": {},
   "source": [
    "## 2.Combine Output with Cropped Cars Images"
   ]
  },
  {
   "cell_type": "code",
   "execution_count": 4,
   "id": "f8d7a591",
   "metadata": {},
   "outputs": [],
   "source": [
    "def pipline_outputs_combined(main_frame,stages_output):\n",
    "    #Get the orginal frame height\n",
    "    h1, w1 = main_frame.shape[:2]\n",
    "    #Get pipeline output images size\n",
    "    square_size=int(w1/len(stages_output))        \n",
    "    img_3 = np.zeros((h1,w1,3), dtype=np.uint8)\n",
    "    img_3[:h1, :w1,:3] = main_frame\n",
    "    i=0\n",
    "    #Add pipeline output images to the original frame \n",
    "    for image in stages_output:\n",
    "        image=cv2.resize(image,(square_size,200),interpolation = cv2.INTER_AREA)\n",
    "        img_3[0:200,i*square_size:(i*square_size)+square_size,:3] = image\n",
    "        i+=1\n",
    "    return img_3"
   ]
  },
  {
   "cell_type": "markdown",
   "id": "e562fc10",
   "metadata": {},
   "source": [
    "## 3. Draw Detected Cars Boundries"
   ]
  },
  {
   "cell_type": "code",
   "execution_count": 5,
   "id": "3780f2ac",
   "metadata": {},
   "outputs": [],
   "source": [
    "def draw_prediction(img, array_out):\n",
    "    for single_out in array_out:\n",
    "        if (single_out[6]=='car'):\n",
    "            color = (250,0,0)\n",
    "            point1=(int(single_out[0]),int(single_out[1]))\n",
    "            point2=(int(single_out[2]),int(single_out[3]))\n",
    "            cv2.rectangle(img,point1, point2, color, 2)\n"
   ]
  },
  {
   "cell_type": "markdown",
   "id": "d8f0a7ea",
   "metadata": {},
   "source": [
    "## 4. Pipeline Executer"
   ]
  },
  {
   "cell_type": "code",
   "execution_count": 6,
   "id": "d8f18607",
   "metadata": {},
   "outputs": [],
   "source": [
    "def detect_image(image_cv2):\n",
    "    results = model(image_cv2)\n",
    "    image_cv1 = image_cv2.copy()\n",
    "    array_out = results.pandas().xyxy[0].to_numpy()\n",
    "    cropped_car_images=cut_image_api(image_cv2,array_out)\n",
    "    draw_prediction(image_cv1, array_out)\n",
    "    if debug and not(len(cropped_car_images)==0):\n",
    "        return pipline_outputs_combined(image_cv1,cropped_car_images)\n",
    "    return image_cv1"
   ]
  },
  {
   "cell_type": "markdown",
   "id": "5c17b99a",
   "metadata": {},
   "source": [
    "## 5.Test Pipeline"
   ]
  },
  {
   "cell_type": "code",
   "execution_count": 7,
   "id": "6463b5cb",
   "metadata": {},
   "outputs": [
    {
     "ename": "TypeError",
     "evalue": "'method' object is not subscriptable",
     "output_type": "error",
     "traceback": [
      "\u001b[1;31m---------------------------------------------------------------------------\u001b[0m",
      "\u001b[1;31mTypeError\u001b[0m                                 Traceback (most recent call last)",
      "\u001b[1;32m~\\AppData\\Local\\Temp/ipykernel_56588/397605533.py\u001b[0m in \u001b[0;36m<module>\u001b[1;34m\u001b[0m\n\u001b[0;32m      2\u001b[0m \u001b[1;32mfrom\u001b[0m \u001b[0mIPython\u001b[0m\u001b[1;33m.\u001b[0m\u001b[0mdisplay\u001b[0m \u001b[1;32mimport\u001b[0m \u001b[0mHTML\u001b[0m\u001b[1;33m\u001b[0m\u001b[1;33m\u001b[0m\u001b[0m\n\u001b[0;32m      3\u001b[0m \u001b[0mdebug\u001b[0m\u001b[1;33m=\u001b[0m\u001b[1;32mFalse\u001b[0m\u001b[1;33m\u001b[0m\u001b[1;33m\u001b[0m\u001b[0m\n\u001b[1;32m----> 4\u001b[1;33m \u001b[0mchallenge_output\u001b[0m \u001b[1;33m=\u001b[0m\u001b[0minput\u001b[0m\u001b[1;33m[\u001b[0m\u001b[1;36m2\u001b[0m\u001b[1;33m]\u001b[0m\u001b[1;33m\u001b[0m\u001b[1;33m\u001b[0m\u001b[0m\n\u001b[0m\u001b[0;32m      5\u001b[0m \u001b[0mclip1\u001b[0m \u001b[1;33m=\u001b[0m \u001b[0mVideoFileClip\u001b[0m\u001b[1;33m(\u001b[0m\u001b[0minput\u001b[0m\u001b[1;33m[\u001b[0m\u001b[1;36m1\u001b[0m\u001b[1;33m]\u001b[0m\u001b[1;33m)\u001b[0m\u001b[1;33m\u001b[0m\u001b[1;33m\u001b[0m\u001b[0m\n\u001b[0;32m      6\u001b[0m \u001b[0mdebug\u001b[0m\u001b[1;33m=\u001b[0m\u001b[0mint\u001b[0m\u001b[1;33m(\u001b[0m\u001b[0minput\u001b[0m\u001b[1;33m[\u001b[0m\u001b[1;36m3\u001b[0m\u001b[1;33m]\u001b[0m\u001b[1;33m)\u001b[0m\u001b[1;33m\u001b[0m\u001b[1;33m\u001b[0m\u001b[0m\n",
      "\u001b[1;31mTypeError\u001b[0m: 'method' object is not subscriptable"
     ]
    }
   ],
   "source": [
    "from moviepy.editor import VideoFileClip\n",
    "from IPython.display import HTML\n",
    "debug=False\n",
    "challenge_output =input[2]\n",
    "clip1 = VideoFileClip(input[1])\n",
    "debug=int(input[3])\n",
    "challenge_clip = clip1.fl_image(detect_image)\n",
    "challenge_clip.write_videofile(challenge_output, audio=False)"
   ]
  },
  {
   "cell_type": "code",
   "execution_count": null,
   "id": "5627d231",
   "metadata": {},
   "outputs": [],
   "source": [
    "HTML(\"\"\"\n",
    "<video width=\"960\" height=\"540\" controls>\n",
    "  <source src=\"{0}\">\n",
    "</video>\n",
    "\"\"\".format(video_output))"
   ]
  }
 ],
 "metadata": {
  "kernelspec": {
   "display_name": "Python 3 (ipykernel)",
   "language": "python",
   "name": "python3"
  },
  "language_info": {
   "codemirror_mode": {
    "name": "ipython",
    "version": 3
   },
   "file_extension": ".py",
   "mimetype": "text/x-python",
   "name": "python",
   "nbconvert_exporter": "python",
   "pygments_lexer": "ipython3",
   "version": "3.9.7"
  }
 },
 "nbformat": 4,
 "nbformat_minor": 5
}
